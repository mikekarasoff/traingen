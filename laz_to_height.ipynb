{
 "cells": [
  {
   "cell_type": "code",
   "execution_count": null,
   "id": "e461fced",
   "metadata": {
    "scrolled": false
   },
   "outputs": [],
   "source": [
    "%load_ext autoreload\n",
    "%aimport rasterio_helpers\n",
    "%aimport proj_scope_vars\n",
    "%autoreload 1\n",
    "\n",
    "import importlib \n",
    "\n",
    "import pdal\n",
    "import glob\n",
    "import json\n",
    "import os\n",
    "from rasterio_helpers import *\n",
    "from proj_scope_vars import *\n",
    "import rasterio\n",
    "from rasterio.warp import reproject\n",
    "import numpy as np\n"
   ]
  },
  {
   "cell_type": "code",
   "execution_count": null,
   "id": "8bfd4103",
   "metadata": {
    "scrolled": false
   },
   "outputs": [],
   "source": [
    "#This creates a TIF of the height above ground using the delaunay cal.\n",
    "def laz_to_height(lazfile_in, tiffile_out):\n",
    "    pdal_json = {\n",
    "         \"pipeline\": [\n",
    "             lazfile_in,\n",
    "             {\n",
    "                 # Delaunay causes silent failures, at least on the machine I'm running\n",
    "                 \"type\":\"filters.hag_delaunay\"\n",
    "                 #\"type\":\"filters.hag_nn\"\n",
    "             },\n",
    "             {\n",
    "\n",
    "                 \"filename\": tiffile_out,\n",
    "                 \"gdaldriver\": \"GTiff\",\n",
    "                 \"output_type\": \"mean\",\n",
    "                 \"dimension\" : \"HeightAboveGround\",\n",
    "                 \"window_size\" : 5,\n",
    "                 \"resolution\": \"1\",\n",
    "                 \"type\": \"writers.gdal\"\n",
    "             }\n",
    "         ]\n",
    "     }\n",
    "    pdal_json_str = json.dumps(pdal_json)\n",
    "    pipeline = pdal.Pipeline(pdal_json_str)\n",
    "    count = pipeline.execute()\n"
   ]
  },
  {
   "cell_type": "code",
   "execution_count": null,
   "id": "7700d3c9",
   "metadata": {
    "scrolled": false
   },
   "outputs": [],
   "source": [
    "#This creates a TIF of the lidar data\n",
    "def laz_to_tif(lazfile_in, tiffile_out, out_type=\"all\"):\n",
    "    pdal_json = {\n",
    "         \"pipeline\": [\n",
    "             lazfile_in,\n",
    "             {\n",
    "\n",
    "                 \"filename\": tiffile_out,\n",
    "                 \"gdaldriver\": \"GTiff\",\n",
    "                 \"output_type\": out_type,\n",
    "                 \"window_size\" : 5,\n",
    "                 \"resolution\": \"1\",\n",
    "                 \"type\": \"writers.gdal\"\n",
    "             }\n",
    "         ]\n",
    "     }\n",
    "    pdal_json_str = json.dumps(pdal_json)\n",
    "    pipeline = pdal.Pipeline(pdal_json_str)\n",
    "    count = pipeline.execute()"
   ]
  },
  {
   "cell_type": "code",
   "execution_count": null,
   "id": "4e3289d5",
   "metadata": {
    "scrolled": false
   },
   "outputs": [],
   "source": [
    "#Iterates through all the TIFFs, calls laz_to_height, and merges the results\n",
    "# into one large TIFF with a name defined by lidar_height_merged_tif\n",
    "lazfiles=glob.glob(lidar_dl_dir + '/*laz')\n",
    "if not os.path.exists(lidar_dl_tif_dir):\n",
    "    os.makedirs(lidar_dl_tif_dir)\n",
    "\n",
    "\n",
    "\n",
    "for lazfile in lazfiles:\n",
    "    filename = os.path.basename(lazfile)\n",
    "    print(filename)\n",
    "    outfile = lidar_dl_tif_dir + '/' + os.path.splitext(filename)[0] + '_min_max.tif'\n",
    "    laz_to_tif(lazfile, outfile, 'min, max')\n",
    "    print(outfile)\n",
    "\n",
    "\n"
   ]
  },
  {
   "cell_type": "code",
   "execution_count": null,
   "id": "945f7695",
   "metadata": {
    "scrolled": false
   },
   "outputs": [],
   "source": [
    "#This merges the dataset into a single TIFF File\n",
    "lidar_datasets = []\n",
    "\n",
    "tiffiles=glob.glob(lidar_dl_tif_dir + '/*_min_max.tif')\n",
    "for tiffile in tiffiles:\n",
    "    ds = rasterio.open(tiffile)\n",
    "    lidar_datasets.append(ds)\n",
    "    \n",
    "lidar_merged_ds = merge_ds(lidar_datasets)\n",
    "\n",
    "print(lidar_merged_ds.profile)\n",
    "show(lidar_merged_ds)\n",
    "\n",
    "\n",
    "ld_rtns=['min', 'max']    \n",
    "ld_nps = {}\n",
    "\n",
    "lidar_profile = lidar_merged_ds.profile\n",
    "lidar_nodata  = lidar_merged_ds.nodata\n",
    "band = 1\n",
    "for ld_rtn in ld_rtns:\n",
    "    #Convert to dtm_crs: epsg(32610)\n",
    "    lidar_np,lidar_trans = reproject(rasterio.band(lidar_merged_ds, band), \n",
    "                                        dst_nodata=lidar_nodata, \n",
    "                                        dst_crs=rasterio.CRS.from_epsg(epsg), \n",
    "                                        dst_resolution=(1,1))\n",
    "    \n",
    "    ld_nps[ld_rtn] = lidar_np\n",
    "       \n",
    "    band += 1\n",
    "\n",
    "\n",
    "lidar_profile.update( {\"driver\": \"GTiff\",\n",
    "                     \"nodata\" : lidar_nodata,\n",
    "                     \"crs\" : rasterio.CRS.from_epsg(epsg),\n",
    "                     \"height\": lidar_np.shape[1],\n",
    "                     \"width\": lidar_np.shape[2],\n",
    "                     \"count\": 1,\n",
    "                     \"transform\": lidar_trans})\n",
    "\n",
    "print(lidar_profile)\n",
    "\n",
    "\n",
    "for ld_rtn in ld_rtns:\n",
    "    ld_rtn_ds = get_ds(ld_nps[ld_rtn], lidar_profile)\n",
    "    \n",
    "    rp_tif = lidar_dl_tif_dir + '/lidar_sf_merged_epsg32610_' + ld_rtn + '.tif'\n",
    "    print(\"Repojected return:\" + ld_rtn)\n",
    "    print(ld_rtn_ds.profile)\n",
    "    show(ld_rtn_ds)\n",
    "    \n",
    "    save_ds(ld_rtn_ds, rp_tif)\n",
    "    "
   ]
  },
  {
   "cell_type": "code",
   "execution_count": null,
   "id": "b308ad2d",
   "metadata": {},
   "outputs": [],
   "source": [
    "#This computes the height.\n",
    "height_np = np.where(np.logical_or((ld_nps['max']==lidar_nodata), (ld_nps['max']==lidar_nodata)),\n",
    "                     lidar_nodata, \n",
    "                     ld_nps['max']-ld_nps['min'])\n",
    "\n",
    "    \n",
    "height_ds = get_ds(height_np, lidar_profile)"
   ]
  },
  {
   "cell_type": "code",
   "execution_count": null,
   "id": "5d14b32d",
   "metadata": {},
   "outputs": [],
   "source": [
    "height_masked_ds = mask_ds(height_ds, studyarea, studyarealayer)\n",
    "\n",
    "save_ds(height_masked_ds, height_map_tif)"
   ]
  },
  {
   "cell_type": "code",
   "execution_count": null,
   "id": "a56ddaf9",
   "metadata": {},
   "outputs": [],
   "source": [
    "show(height_masked_ds)"
   ]
  },
  {
   "cell_type": "code",
   "execution_count": null,
   "id": "65bffbb3",
   "metadata": {},
   "outputs": [],
   "source": [
    "print(height_map_tif)"
   ]
  },
  {
   "cell_type": "code",
   "execution_count": null,
   "id": "568327b6",
   "metadata": {
    "scrolled": false
   },
   "outputs": [],
   "source": [
    "#Creates \n",
    "\n",
    "lidar_height_merged_ds = rasterio.open(lidar_height_merged_tif)\n",
    "\n",
    "height_profile = lidar_height_merged_ds.profile\n",
    "height_nodata  = lidar_height_merged_ds.nodata\n",
    "\n",
    "\n",
    "#Convert to dtm_crs: epsg(32610)\n",
    "height_np,heigth_trans = reproject(rasterio.band(lidar_height_merged_ds, 1), \n",
    "                                    dst_nodata=height_nodata, \n",
    "                                    dst_crs=rasterio.CRS.from_epsg(epsg), \n",
    "                                    dst_resolution=(1,1))\n",
    "\n",
    "height_profile.update({\"driver\": \"GTiff\",\n",
    "                 \"nodata\" : height_nodata,\n",
    "                 \"crs\" : rasterio.CRS.from_epsg(epsg),\n",
    "                 \"height\": height_np.shape[1],\n",
    "                 \"width\": height_np.shape[2],\n",
    "                 \"transform\": heigth_trans})\n",
    "\n",
    "\n",
    "show(heigth_ds)\n",
    "\n",
    "save_ds(heigth_ds, height_map_tif)"
   ]
  },
  {
   "cell_type": "code",
   "execution_count": null,
   "id": "a58d1ce7",
   "metadata": {
    "scrolled": false
   },
   "outputs": [],
   "source": [
    "#Iterates through all the TIFFs, calls laz_to_height, and merges the results\n",
    "# into one large TIFF with a name defined by lidar_height_merged_tif\n",
    "lazfiles=glob.glob(lidar_dl_dir + '/*laz')\n",
    "if not os.path.exists(lidar_dl_tif_dir):\n",
    "    os.makedirs(lidar_dl_tif_dir)\n",
    "\n",
    "\n",
    "\n",
    "for lazfile in lazfiles:\n",
    "    filename = os.path.basename(lazfile)\n",
    "    print(filename)\n",
    "    outfile = lidar_dl_tif_dir + '/' + os.path.splitext(filename)[0] + '_hag_delaunay.tif'\n",
    "    laz_to_height(lazfile, outfile)\n",
    "    print(outfile)\n",
    "\n",
    "\n"
   ]
  },
  {
   "cell_type": "code",
   "execution_count": null,
   "id": "c5a977a4",
   "metadata": {},
   "outputs": [],
   "source": [
    "lidar_datasets = []\n",
    "\n",
    "tiffiles=glob.glob(lidar_dl_tif_dir + '/*_hag_delaunay.tif')\n",
    "for tiffile in tiffiles:\n",
    "    ds = rasterio.open(tiffile)\n",
    "    lidar_datasets.append(ds)\n",
    "    \n",
    "lidar_merged_ds = merge_ds(lidar_datasets)\n",
    "\n",
    "lidar_profile = lidar_merged_ds.profile\n",
    "lidar_nodata  = lidar_merged_ds.nodata\n",
    "\n",
    "lidar_np,lidar_trans = reproject(rasterio.band(lidar_merged_ds, 1), \n",
    "                                    dst_nodata=lidar_nodata, \n",
    "                                    dst_crs=rasterio.CRS.from_epsg(epsg), \n",
    "                                    dst_resolution=(1,1))\n",
    "\n",
    "lidar_profile.update( {\"driver\": \"GTiff\",\n",
    "                     \"nodata\" : lidar_nodata,\n",
    "                     \"crs\" : rasterio.CRS.from_epsg(epsg),\n",
    "                     \"height\": lidar_np.shape[1],\n",
    "                     \"width\": lidar_np.shape[2],\n",
    "                     \"transform\": lidar_trans})\n",
    "\n",
    "height_ds = get_ds(lidar_np, lidar_profile)\n",
    "hd_height_map_tif = os.path.splitext(height_map_tif)[0] + '_hag_delaunay.tif'\n"
   ]
  },
  {
   "cell_type": "code",
   "execution_count": null,
   "id": "827625b3",
   "metadata": {
    "scrolled": false
   },
   "outputs": [],
   "source": [
    "height_masked_ds = mask_ds(height_ds, studyarea, studyarealayer)\n",
    "save_ds(height_masked_ds, hd_height_map_tif)\n",
    "show(height_masked_ds)\n",
    "print(lidar_profile)"
   ]
  },
  {
   "cell_type": "code",
   "execution_count": null,
   "id": "97525aac",
   "metadata": {
    "scrolled": false
   },
   "outputs": [],
   "source": [
    "delaunay_height_map_tif = os.path.splitext(height_map_tif)[0] + '_hag_delaunay.tif'\n",
    "first_last_height_map_tif = height_map_tif\n",
    "print(height_map_tif)\n",
    "max_height_map_tif = os.path.splitext(height_map_tif)[0] + '_max_height.tif'\n",
    "print(delaunay_height_map_tif)\n",
    "\n",
    "\n",
    "firts_last_ds = rasterio.open(first_last_height_map_tif)\n",
    "first_last_np = firts_last_ds.read()\n",
    "delaunay_ds = rasterio.open(delaunay_height_map_tif)\n",
    "delaunay_np = delaunay_ds.read()\n",
    "\n",
    "\n",
    "max_height_np = np.maximum(delaunay_np, first_last_np)\n",
    "max_height_profile = delaunay_ds.profile\n",
    "print(max_height_profile)\n",
    "print(max_height_np.shape)\n",
    "\n",
    "max_height_ds = get_ds(max_height_np, max_height_profile)\n",
    "save_ds(max_height_ds, max_height_map_tif)"
   ]
  },
  {
   "cell_type": "code",
   "execution_count": null,
   "id": "dbce29b4",
   "metadata": {
    "scrolled": false
   },
   "outputs": [],
   "source": [
    "import fiona\n",
    "with fiona.open(studyarea, layer=studyarealayer) as shapefile:\n",
    "    shapes = [feature[\"geometry\"] for feature in shapefile]  \n",
    "print(studyarea)\n",
    "from shapely.geometry import shape\n",
    "multi = shape(shapes[0])\n",
    "print(multi)\n",
    "print(dir(multi))\n",
    "print(multi.convex_hull)"
   ]
  },
  {
   "cell_type": "code",
   "execution_count": null,
   "id": "faad2b3f",
   "metadata": {
    "scrolled": true
   },
   "outputs": [],
   "source": []
  },
  {
   "cell_type": "code",
   "execution_count": null,
   "id": "2f9a8afc",
   "metadata": {},
   "outputs": [],
   "source": [
    "import pprint\n",
    "\n",
    "with fiona.open(studyarea, layer=studyarealayer) as src:\n",
    "    pprint.pprint(src[1].schema)\n",
    "\n",
    "\n",
    "# with fiona.open(, layer=studyarealayer)  as layer:\n",
    "#     for feature in layer:\n",
    "#         print(feature['geometry'])"
   ]
  },
  {
   "cell_type": "code",
   "execution_count": null,
   "id": "5a391703",
   "metadata": {},
   "outputs": [],
   "source": [
    "pprint.pprint(shapefile)"
   ]
  },
  {
   "cell_type": "code",
   "execution_count": null,
   "id": "b71d28d2",
   "metadata": {},
   "outputs": [],
   "source": []
  }
 ],
 "metadata": {
  "kernelspec": {
   "display_name": "Python 3 (ipykernel)",
   "language": "python",
   "name": "python3"
  },
  "language_info": {
   "codemirror_mode": {
    "name": "ipython",
    "version": 3
   },
   "file_extension": ".py",
   "mimetype": "text/x-python",
   "name": "python",
   "nbconvert_exporter": "python",
   "pygments_lexer": "ipython3",
   "version": "3.11.0"
  }
 },
 "nbformat": 4,
 "nbformat_minor": 5
}
