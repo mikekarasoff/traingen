{
 "cells": [
  {
   "cell_type": "code",
   "execution_count": null,
   "id": "59daa61f",
   "metadata": {},
   "outputs": [],
   "source": [
    "%load_ext autoreload\n",
    "%aimport rasterio_helpers\n",
    "%aimport proj_scope_vars\n",
    "%autoreload 1\n",
    "%autosave 300\n",
    "\n",
    "import importlib \n",
    "\n",
    "import pdal\n",
    "import glob\n",
    "import json\n",
    "import os\n",
    "from rasterio_helpers import *\n",
    "from proj_scope_vars import *\n",
    "import rasterio\n",
    "from rasterio.warp import reproject\n",
    "import numpy as np\n",
    "import rasterio as rio\n",
    "from rasterio.features import dataset_features\n",
    "import geopandas as gpd\n"
   ]
  },
  {
   "cell_type": "code",
   "execution_count": null,
   "id": "c79a1cdb",
   "metadata": {},
   "outputs": [],
   "source": [
    "def mask_merge(tiffs, outtiff=None):\n",
    "    masked_dss = []\n",
    "    for tiff in tiffs:\n",
    "        with rasterio.open(tiff) as ds:\n",
    "            masked_dss.append(mask_ds(ds, height_map_mask))\n",
    "    \n",
    "    mask_merge_ds = merge_ds(masked_dss)\n",
    "    if outtiff is not None:\n",
    "        save_ds(mask_merge_ds, outtiff)\n",
    "    return mask_merge_ds"
   ]
  },
  {
   "cell_type": "code",
   "execution_count": null,
   "id": "f5134036",
   "metadata": {},
   "outputs": [],
   "source": [
    "#Intraband Alignment for skysat data. \n",
    "# This masks to lidar area, then alings masked ms data to pan chromatic and multispectral data.\n",
    "# Finally, this puts everything back into a single file.\n",
    "panband_tiffs = glob.glob(f'{skysat_dl_dir}/*panchromatic*.tif')\n",
    "ms_tiffs = glob.glob(f'{skysat_dl_dir}/*pansharpened*.tif')\n",
    "\n",
    "# sks_aligned_tiff = f'{aligned_raster_dir}/{skysat_basename}_alinged.tif'\n",
    "\n",
    "pan_masked_tiff =  f'{skysat_processed_dir}/{skysat_basename}_pan_merged_masked.tif'\n",
    "ms_masked_tiff =  f'{skysat_processed_dir}/{skysat_basename}_ms_merged_masked.tif'\n",
    "\n",
    "pan_masked_ds = mask_merge(panband_tiffs, pan_masked_tiff)\n",
    "ms_masked_ds  = mask_merge(ms_tiffs, ms_masked_tiff)"
   ]
  },
  {
   "cell_type": "code",
   "execution_count": null,
   "id": "cf8d681e",
   "metadata": {},
   "outputs": [],
   "source": [
    "\n",
    "\n",
    "sks_idxs = list(skysat_dl_bands.keys())\n",
    "sks_idxs.sort()\n",
    "\n",
    "ms_band_profile = ms_masked_ds.profile\n",
    "ms_band_profile.update( {\"count\": 1})\n",
    "\n",
    "# for idx in sks_idxs:\n",
    "#     bandname = skysat_dl_bands[idx]\n",
    "#     ms_band_masked_tiff  = f'{temp_dir}/{skysat_basename}_{bandname}_masked.tif'\n",
    "#     ms_band_aligned_tiff = f'{temp_dir}/{skysat_basename}_{bandname}_aligned.tif'\n",
    "#     work_dir = f'{skysat_dl_dir}/work/{skysat_basename}_{bandname}_iba\n",
    "    \n",
    "#     with rasterio.open(ms_band_masked_tiff, 'w', **ms_band_profile) as ms_masked_band_ds:\n",
    "#         ms_band_ds.write(1, ms_masked_ds.read(idx))\n",
    "#         ms_band_ds.set_band_description(1, bandname)\n",
    "   \n",
    "#     align_rasters(pan_masked_tiff, \n",
    "#                   ms_band_masked_tiff, \n",
    "#                   ms_band_aligned_tiff, \n",
    "#                   work_dir=work_dir\n",
    "#                   ref_band=None, tgt_band=None)\n",
    "    \n",
    "#     with rasterio.open(ms_band_aligned_tiff) as ms_band_aligned_ds:\n",
    "#         band_alinged_dss.append(ms_band_aligned_ds)\n",
    "\n",
    "#     os.remove(ms_band_masked_tiff)\n",
    "#     os.remove(ms_band_aligned_tiff)\n",
    "\n",
    "# os.remove(pan_masked_tiff)\n",
    "    \n",
    "# band_alinged_dss.append(pan_masked_ds)\n",
    "\n",
    "# aligned_profile = ms_band_profile\n",
    "# aligned_profile.update({\"count\": len(band_alinged_dss)})\n",
    "\n",
    "# with rasterio.open(sks_aligned_tiff, 'w', **aligned_profile) as aligned_ds:\n",
    "#     for idx in range(len(band_alinged_dss)):\n",
    "#         band = idx+1\n",
    "#         bandname = skysat_dl_bands[band]\n",
    "#         band_alinged_ds = band_alinged_dss[idx]\n",
    "#         aligned_ds.write(band_idx, band_alinged_ds.read(band))\n",
    "#         aligned_ds.set_band_description(band, bandname)\n"
   ]
  },
  {
   "cell_type": "code",
   "execution_count": null,
   "id": "6c6f7ec7",
   "metadata": {},
   "outputs": [],
   "source": [
    "skysat_sf_tiff = \n",
    "with rasterio.open('stack.tif', 'w', **meta) as dst:\n",
    "    "
   ]
  },
  {
   "cell_type": "code",
   "execution_count": null,
   "id": "446eda0c",
   "metadata": {},
   "outputs": [],
   "source": [
    "sks_sf_tiffs    = glob.glob(skysat_dl_dir + '/*.tif')\n",
    "print(sks_sf_tiffs)\n",
    "\n",
    "if not os.path.exists(skysat_processed_dir):\n",
    "    os.makedirs(skysat_processed_dir)\n",
    "\n",
    "for sks_sf_tiff in sks_sf_tiffs:\n",
    "    file_basename = os.path.splitext(os.path.basename(sks_sf_tiff))[0]\n",
    "    sks_sf_outfn = f'{skysat_processed_dir}/{file_basename}_masked.tif'\n",
    "    \n",
    "    print(sks_sf_tiff)\n",
    "    try:\n",
    "        sks_sf_masked_ds  = mask_ds(sks_sf_ds, \n",
    "                                   height_map_mask, \n",
    "                                   os.path.splitext(os.path.basename(height_map_mask))[0], \n",
    "                                   nodata=0.0)\n",
    "    except ValueError:\n",
    "        continue\n",
    "    save_ds(sks_sf_masked_ds, sks_sf_outfn)"
   ]
  },
  {
   "cell_type": "code",
   "execution_count": null,
   "id": "11fe090d",
   "metadata": {},
   "outputs": [],
   "source": [
    "sks_sf_tiffs     = glob.glob(skysat_processed_dir + '/*masked.tif')\n",
    "sks_sf_outfn     = f'{skysat_processed_dir}/{skysat_basename}_merged.tif'\n",
    "sks_sf_ds_list   = [rasterio.open(sks_sf_tiff) for sks_sf_tiff in sks_sf_tiffs]\n",
    "sks_sf_merged_ds = merge_ds(sks_sf_ds_list)\n",
    "save_ds(sks_sf_masked_ds, sks_sf_outfn)"
   ]
  }
 ],
 "metadata": {
  "kernelspec": {
   "display_name": "Python 3 (ipykernel)",
   "language": "python",
   "name": "python3"
  },
  "language_info": {
   "codemirror_mode": {
    "name": "ipython",
    "version": 3
   },
   "file_extension": ".py",
   "mimetype": "text/x-python",
   "name": "python",
   "nbconvert_exporter": "python",
   "pygments_lexer": "ipython3",
   "version": "3.11.0"
  }
 },
 "nbformat": 4,
 "nbformat_minor": 5
}
