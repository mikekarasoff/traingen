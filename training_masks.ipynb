{
 "cells": [
  {
   "cell_type": "code",
   "execution_count": null,
   "id": "23d09ec9",
   "metadata": {},
   "outputs": [],
   "source": [
    "import importlib \n",
    "\n",
    "import pdal\n",
    "import glob\n",
    "import json\n",
    "from rasterio_helpers import *\n",
    "from proj_scope_vars import *\n",
    "import rasterio\n",
    "from rasterio.warp import reproject\n",
    "import numpy as np\n",
    "\n",
    "from arosics import DESHIFTER\n",
    "from arosics import COREG_LOCAL\n",
    "from geoarray import GeoArray\n",
    "import os, shutil, glob\n",
    "import numpy as np\n",
    "import time\n",
    "import re\n",
    "from shapely.geometry import shape\n",
    "import fiona\n",
    "\n",
    "%load_ext autoreload\n",
    "%aimport rasterio_helpers\n",
    "%aimport proj_scope_vars\n",
    "%autoreload 1\n",
    "%autosave 300"
   ]
  },
  {
   "cell_type": "code",
   "execution_count": null,
   "id": "172011f2",
   "metadata": {},
   "outputs": [],
   "source": [
    "ndvi_out = f'{training_mask_dir}/{skysat_basename}_ndvi_training.tif'\n",
    "skysat_ms_aligned_tif = glob.glob(f'{aligned_raster_dir}/{skysat_basename}*ms_aligned.tif')[0]\n",
    "height_max_aligned_tif = glob.glob(f'{aligned_raster_dir}/*height_map_max*')[0]\n",
    "\n",
    "with rasterio.open(skysat_ms_aligned_tif) as skysat_ms_aligned_ds:\n",
    "    skysat_ms_aligned_np = skysat_ms_aligned_ds.read()\n",
    "    skysat_ms_aligned_profile = skysat_ms_aligned_ds.profile\n",
    "    skysat_ms_aligned_transform = skysat_ms_aligned_ds.transform\n",
    "    skysat_ms_aligned_crs = skysat_ms_aligned_ds.crs\n",
    "    \n",
    "\n",
    "with rasterio.open(height_max_aligned_tif) as height_max_aligned_ds:\n",
    "    height_max_aligned_np = height_max_aligned_ds.read()\n",
    "    height_max_aligned_profile = height_max_aligned_ds.profile\n",
    "    height_max_aligned_transform = height_max_aligned_ds.transform\n",
    "    height_max_aligned_crs = height_max_aligned_ds.crs\n",
    "\n",
    "\n"
   ]
  },
  {
   "cell_type": "code",
   "execution_count": null,
   "id": "d28acf59",
   "metadata": {},
   "outputs": [],
   "source": [
    "height_max_aligned_ds = rasterio.open(height_max_aligned_tif)\n",
    "skysat_ms_aligned_ds = rasterio.open(skysat_ms_aligned_tif)"
   ]
  },
  {
   "cell_type": "code",
   "execution_count": null,
   "id": "252220c2",
   "metadata": {},
   "outputs": [],
   "source": [
    "height_max_aligned_ds.close()\n",
    "skysat_ms_aligned_ds.close()"
   ]
  },
  {
   "cell_type": "code",
   "execution_count": null,
   "id": "be9ba32b",
   "metadata": {},
   "outputs": [],
   "source": [
    "print(skysat_ms_aligned_np.shape)\n",
    "print(skysat_ms_aligned_profile)\n",
    "print(skysat_ms_aligned_transform)\n",
    "print(skysat_ms_aligned_crs)\n",
    "\n",
    "print(height_max_aligned_np.shape)\n",
    "print(height_max_aligned_profile)\n",
    "print(height_max_aligned_transform)\n",
    "print(height_max_aligned_crs)\n"
   ]
  },
  {
   "cell_type": "code",
   "execution_count": null,
   "id": "92e45d31",
   "metadata": {},
   "outputs": [],
   "source": [
    "skysat_ms_aligned_tif = glob.glob(f'{aligned_raster_dir}/{skysat_basename}*ms_aligned.tif')[0]\n",
    "print(skysat_ms_aligned_tif)"
   ]
  },
  {
   "cell_type": "code",
   "execution_count": null,
   "id": "20eeb80c",
   "metadata": {},
   "outputs": [],
   "source": [
    "#\n",
    "skysat_ms_resampled_tif = skysat_ms_aligned_tif.replace('.tif', '_1m.tif' )\n",
    "\n",
    "res = (1, 1)\n",
    "\n",
    "with rasterio.open(skysat_ms_aligned_tif) as skysat_ms_aligned_ds:\n",
    "    \n",
    "    scale_factor = [skysat_ms_aligned_ds.res[i]/res[i] for i in range(2)]\n",
    "    \n",
    "    # resample data to target shape\n",
    "    skysat_ms_aligned_np = skysat_ms_aligned_ds.read(\n",
    "        out_shape=(\n",
    "            skysat_ms_aligned_ds.count,\n",
    "            int(skysat_ms_aligned_ds.height * scale_factor[0]),\n",
    "            int(skysat_ms_aligned_ds.width  * scale_factor[1])\n",
    "        ),\n",
    "        resampling=Resampling.bilinear\n",
    "    )\n",
    "                      \n",
    "    out_width  = skysat_ms_aligned_np.shape[-1]\n",
    "    out_height = skysat_ms_aligned_np.shape[-2]\n",
    "\n",
    "    # scale image transform\n",
    "    transform = skysat_ms_aligned_ds.transform * skysat_ms_aligned_ds.transform.scale(\n",
    "        (skysat_ms_aligned_ds.width / out_width),\n",
    "        (skysat_ms_aligned_ds.height / out_height)\n",
    "    )\n",
    "    \n",
    "    print(skysat_ms_aligned_np.shape)\n",
    "    print('Transform before resample:\\n', skysat_ms_aligned_ds.transform, '\\n')\n",
    "    print('Transform after resample:\\n', transform)\n",
    "    \n",
    "        # Write outputs\n",
    "    profile = skysat_ms_aligned_ds.profile\n",
    "    print(profile)\n",
    "    profile.update(\n",
    "        {\n",
    "            \"transform\": transform,\n",
    "            \"width\": out_width,\n",
    "            \"height\":out_height,\n",
    "            \"nodata\": 0,  \n",
    "        }\n",
    "    )\n",
    "    \n",
    "    skysat_ms_aligned_masked_ds = mask_ds(get_ds(skysat_ms_aligned_np, profile), training_area_mask)\n",
    "    \n",
    "    skysat_ms_aligned_masked_np = skysat_ms_aligned_masked_ds.read()\n",
    "    \n",
    "    print(skysat_ms_aligned_masked_ds.profile)\n",
    "\n",
    "#     with rasterio.open(skysat_ms_resampled_tif, \"w\", **profile) as dst:\n",
    "#         # iterate through bands\n",
    "#         for i in range(skysat_ms_aligned_np.shape[0]):\n",
    "#               dst.write(skysat_ms_aligned_np[i].astype(rasterio.uint64), i+1)\n",
    "    \n",
    "\n"
   ]
  },
  {
   "cell_type": "code",
   "execution_count": null,
   "id": "f099e2c7",
   "metadata": {},
   "outputs": [],
   "source": [
    "#Generate NDVI\n",
    "\n",
    "skysat_ms_nir_np = skysat_ms_aligned_masked_ds.read(4).astype(rasterio.float64)\n",
    "skysat_ms_red_np = skysat_ms_aligned_masked_ds.read(3).astype(rasterio.float64)\n",
    "nodata=skysat_ms_aligned_masked_ds.nodata\n",
    "profile=skysat_ms_aligned_masked_ds.profile\n",
    "skysat_ndvi_tif = skysat_ms_aligned_tif.replace('.tif', '_1m_ndvi.tif' )\n",
    "\n",
    "skysat_ms_ndvi_np = np.where(np.logical_or((skysat_ms_red_np != nodata), (skysat_ms_nir_np != nodata)), \n",
    "                            ((skysat_ms_nir_np-skysat_ms_red_np)/(skysat_ms_nir_np+skysat_ms_red_np)), \n",
    "                            -9999)\n",
    "skysat_ms_ndvi_np = np.expand_dims(skysat_ms_ndvi_np, axis=0)\n",
    "profile.update(\n",
    "    {\n",
    "        'dtype' : 'float64',\n",
    "        'nodata': -9999,\n",
    "        'count' : 1,\n",
    "    }\n",
    ")\n",
    "\n",
    "skysat_ms_ndvi_ds = get_ds(skysat_ms_ndvi_np, profile)\n",
    "save_ds(skysat_ms_ndvi_ds, skysat_ndvi_tif)\n",
    "show(skysat_ms_ndvi_ds)"
   ]
  },
  {
   "cell_type": "code",
   "execution_count": null,
   "id": "b578a9d0",
   "metadata": {},
   "outputs": [],
   "source": [
    "a = [[1, 2], [3, 4]]\n",
    "np.pad(a, ((0, 1), (0, 1)), 'constant', constant_values=(1))"
   ]
  },
  {
   "cell_type": "code",
   "execution_count": null,
   "id": "a3b58287",
   "metadata": {
    "scrolled": true
   },
   "outputs": [],
   "source": [
    "height_map_aligned_dl_binary_tif = f'{aligned_raster_dir}/ca_3dep_2018_sf_height_map_hag_binary.tif'\n",
    "\n",
    "height_map_aligned_dl_tif = glob.glob(f'{aligned_raster_dir}/ca_3dep_2018_sf_height_map_hag*.tif')[0]\n",
    "height_max_aligned_ds = rasterio.open(height_max_aligned_tif)\n",
    "height_max_aligned_np=height_max_aligned_ds.read()\n",
    "bin_np = np.where( height_max_aligned_np != height_max_aligned_ds.nodata, 1, -9999)\n",
    "height_max_aligned_ds.close()\n",
    "with rasterio.open(height_map_aligned_dl_binary_tif, \"w\", **profile) as ds:\n",
    "    ds.write(bin_np)"
   ]
  },
  {
   "cell_type": "code",
   "execution_count": null,
   "id": "36c3017e",
   "metadata": {},
   "outputs": [],
   "source": []
  },
  {
   "cell_type": "code",
   "execution_count": null,
   "id": "b850ff48",
   "metadata": {},
   "outputs": [],
   "source": [
    "#Tree Mask\n",
    "mask='/home/mike/geog_560_planet_proj/layers/ca_3dep_2018_sf_height_map_mask.gpkg'\n",
    "skysat_ndvi_tif = glob.glob(f'{aligned_raster_dir}/{skysat_basename}*_1m_ndvi.tif')[0]\n",
    "height_max_aligned_tif = glob.glob(f'{aligned_raster_dir}/ca_3dep_2018_sf_height_map_max*.tif')[0]\n",
    "height_map_aligned_dl_tif = glob.glob(f'{aligned_raster_dir}/ca_3dep_2018_sf_height_map_hag*.tif')[0]\n",
    "\n",
    "skysat_ms_ndvi_ds = rasterio.open(skysat_ndvi_tif)\n",
    "height_max_aligned_ds = rasterio.open(height_max_aligned_tif)\n",
    "height_dl_aligned_ds = rasterio.open(height_map_aligned_dl_tif)\n",
    "\n",
    "height_dl_aligned_ds = mask_ds(height_dl_aligned_ds,training_area_mask)\n",
    "height_max_aligned_ds = mask_ds(height_max_aligned_ds,training_area_mask)\n",
    "skysat_ms_ndvi_ds = mask_ds(skysat_ms_ndvi_ds,training_area_mask)\n",
    "\n",
    "profile = height_dl_aligned_ds.profile\n",
    "\n",
    "print(height_dl_aligned_ds.profile)\n",
    "print(height_max_aligned_ds.profile)\n",
    "print(skysat_ms_ndvi_ds.profile)\n",
    "\n",
    "height_max_aligned_np = height_max_aligned_ds.read()\n",
    "height_dl_aligned_np  = height_dl_aligned_ds.read()\n",
    "skysat_ms_ndvi_np     = skysat_ms_ndvi_ds.read()\n",
    "\n",
    "height_dl_aligned_np=np.pad(height_dl_aligned_np, ((0,0), (0, 1), (0, 1)), 'constant', constant_values=(nodata))\n"
   ]
  },
  {
   "cell_type": "code",
   "execution_count": null,
   "id": "09c9fef7",
   "metadata": {},
   "outputs": [],
   "source": [
    "nodata = height_dl_aligned_ds.nodata\n",
    "\n",
    "\n",
    "\n",
    "tree_criteria = np.logical_and(np.greater(skysat_ms_ndvi_np, 0.0), \n",
    "                             np.greater(height_max_aligned_np, 2.0))\n",
    "\n",
    "ground_veg_criteria = np.logical_and(np.greater(skysat_ms_ndvi_np, 0.0), \n",
    "                       np.logical_and(np.less(height_dl_aligned_np, 2.0),\n",
    "                                      np.greater(height_dl_aligned_np, 0.2)))\n",
    "\n",
    "grass_criteria = np.logical_and(np.greater(skysat_ms_ndvi_np, 0.4), \n",
    "                               np.less(height_dl_aligned_np, 0.1))\n",
    "                                   \n",
    "street_criteria = np.logical_and(np.less(skysat_ms_ndvi_np, -0.3), \n",
    "                               np.less(height_dl_aligned_np, 0.2))\n",
    "                                     \n",
    "bldg_criteria = np.logical_and(np.less(skysat_ms_ndvi_np, -0.1), \n",
    "                               np.greater(height_dl_aligned_np, 3))\n",
    "\n",
    "valid_data = np.logical_or( (skysat_ms_ndvi_np != skysat_ms_ndvi_ds.nodata),\n",
    "                                (height_dl_aligned_np != height_dl_aligned_ds.nodata))\n",
    "                                     \n",
    "criterias = { \"trees\" : tree_criteria,\n",
    "              \"ground_veg\" : ground_veg_criteria,\n",
    "              \"grass\" : grass_criteria,\n",
    "              \"street\" : street_criteria,\n",
    "              \"bldg\" : bldg_criteria\n",
    "            }\n",
    "\n",
    "np_datas = {}\n",
    "                                     \n",
    "for label, criteria in criterias.items():   \n",
    "    np_datas[label] = np.where( np.logical_and(valid_data,criteria), 1, -9999)\n",
    "     \n",
    "for label, np_data in np_datas.items():\n",
    "    training_mask_tiff = f'{training_mask_dir}/{label}_training_mask.tif'\n",
    "    \n",
    "    with rasterio.open(training_mask_tiff, \"w\", **profile) as training_mask_ds:\n",
    "        training_mask_ds.write(np_data)\n",
    "        training_mask_ds.set_band_description(1, label)"
   ]
  },
  {
   "cell_type": "code",
   "execution_count": null,
   "id": "b940217e",
   "metadata": {},
   "outputs": [],
   "source": [
    "height_max_aligned_ds.profile"
   ]
  },
  {
   "cell_type": "code",
   "execution_count": null,
   "id": "009d9d30",
   "metadata": {
    "scrolled": true
   },
   "outputs": [],
   "source": [
    "height_dl_aligned_ds.profile"
   ]
  },
  {
   "cell_type": "code",
   "execution_count": null,
   "id": "1350f1c1",
   "metadata": {},
   "outputs": [],
   "source": [
    "a = [1, 2, 3, 4, 5]"
   ]
  },
  {
   "cell_type": "code",
   "execution_count": null,
   "id": "aaa0810d",
   "metadata": {},
   "outputs": [],
   "source": [
    "np.pad(a, (0,1), 'constant', constant_values=(1))"
   ]
  },
  {
   "cell_type": "code",
   "execution_count": null,
   "id": "d580912b",
   "metadata": {},
   "outputs": [],
   "source": []
  }
 ],
 "metadata": {
  "kernelspec": {
   "display_name": "Python 3 (ipykernel)",
   "language": "python",
   "name": "python3"
  },
  "language_info": {
   "codemirror_mode": {
    "name": "ipython",
    "version": 3
   },
   "file_extension": ".py",
   "mimetype": "text/x-python",
   "name": "python",
   "nbconvert_exporter": "python",
   "pygments_lexer": "ipython3",
   "version": "3.11.0"
  }
 },
 "nbformat": 4,
 "nbformat_minor": 5
}
